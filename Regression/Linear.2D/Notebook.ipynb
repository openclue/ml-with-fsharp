{
 "cells": [
  {
   "cell_type": "code",
   "execution_count": 1,
   "id": "dd6c1ba5-16ee-4fde-8e61-fbf6c99c41f8",
   "metadata": {
    "tags": []
   },
   "outputs": [
    {
     "data": {
      "text/html": [
       "\r\n",
       "<div>\r\n",
       "    <div id='dotnet-interactive-this-cell-2100.Microsoft.DotNet.Interactive.Http.HttpPort' style='display: none'>\r\n",
       "        The below script needs to be able to find the current output cell; this is an easy method to get it.\r\n",
       "    </div>\r\n",
       "    <script type='text/javascript'>\r\n",
       "async function probeAddresses(probingAddresses) {\r\n",
       "    function timeout(ms, promise) {\r\n",
       "        return new Promise(function (resolve, reject) {\r\n",
       "            setTimeout(function () {\r\n",
       "                reject(new Error('timeout'))\r\n",
       "            }, ms)\r\n",
       "            promise.then(resolve, reject)\r\n",
       "        })\r\n",
       "    }\r\n",
       "\r\n",
       "    if (Array.isArray(probingAddresses)) {\r\n",
       "        for (let i = 0; i < probingAddresses.length; i++) {\r\n",
       "\r\n",
       "            let rootUrl = probingAddresses[i];\r\n",
       "\r\n",
       "            if (!rootUrl.endsWith('/')) {\r\n",
       "                rootUrl = `${rootUrl}/`;\r\n",
       "            }\r\n",
       "\r\n",
       "            try {\r\n",
       "                let response = await timeout(1000, fetch(`${rootUrl}discovery`, {\r\n",
       "                    method: 'POST',\r\n",
       "                    cache: 'no-cache',\r\n",
       "                    mode: 'cors',\r\n",
       "                    timeout: 1000,\r\n",
       "                    headers: {\r\n",
       "                        'Content-Type': 'text/plain'\r\n",
       "                    },\r\n",
       "                    body: probingAddresses[i]\r\n",
       "                }));\r\n",
       "\r\n",
       "                if (response.status == 200) {\r\n",
       "                    return rootUrl;\r\n",
       "                }\r\n",
       "            }\r\n",
       "            catch (e) { }\r\n",
       "        }\r\n",
       "    }\r\n",
       "}\r\n",
       "\r\n",
       "function loadDotnetInteractiveApi() {\r\n",
       "    probeAddresses([\"http://169.254.106.231:2048/\", \"http://10.197.1.44:2048/\", \"http://127.0.0.1:2048/\"])\r\n",
       "        .then((root) => {\r\n",
       "        // use probing to find host url and api resources\r\n",
       "        // load interactive helpers and language services\r\n",
       "        let dotnetInteractiveRequire = require.config({\r\n",
       "        context: '2100.Microsoft.DotNet.Interactive.Http.HttpPort',\r\n",
       "                paths:\r\n",
       "            {\r\n",
       "                'dotnet-interactive': `${root}resources`\r\n",
       "                }\r\n",
       "        }) || require;\r\n",
       "\r\n",
       "            window.dotnetInteractiveRequire = dotnetInteractiveRequire;\r\n",
       "\r\n",
       "            window.configureRequireFromExtension = function(extensionName, extensionCacheBuster) {\r\n",
       "                let paths = {};\r\n",
       "                paths[extensionName] = `${root}extensions/${extensionName}/resources/`;\r\n",
       "                \r\n",
       "                let internalRequire = require.config({\r\n",
       "                    context: extensionCacheBuster,\r\n",
       "                    paths: paths,\r\n",
       "                    urlArgs: `cacheBuster=${extensionCacheBuster}`\r\n",
       "                    }) || require;\r\n",
       "\r\n",
       "                return internalRequire\r\n",
       "            };\r\n",
       "        \r\n",
       "            dotnetInteractiveRequire([\r\n",
       "                    'dotnet-interactive/dotnet-interactive'\r\n",
       "                ],\r\n",
       "                function (dotnet) {\r\n",
       "                    dotnet.init(window);\r\n",
       "                },\r\n",
       "                function (error) {\r\n",
       "                    console.log(error);\r\n",
       "                }\r\n",
       "            );\r\n",
       "        })\r\n",
       "        .catch(error => {console.log(error);});\r\n",
       "    }\r\n",
       "\r\n",
       "// ensure `require` is available globally\r\n",
       "if ((typeof(require) !==  typeof(Function)) || (typeof(require.config) !== typeof(Function))) {\r\n",
       "    let require_script = document.createElement('script');\r\n",
       "    require_script.setAttribute('src', 'https://cdnjs.cloudflare.com/ajax/libs/require.js/2.3.6/require.min.js');\r\n",
       "    require_script.setAttribute('type', 'text/javascript');\r\n",
       "    \r\n",
       "    \r\n",
       "    require_script.onload = function() {\r\n",
       "        loadDotnetInteractiveApi();\r\n",
       "    };\r\n",
       "\r\n",
       "    document.getElementsByTagName('head')[0].appendChild(require_script);\r\n",
       "}\r\n",
       "else {\r\n",
       "    loadDotnetInteractiveApi();\r\n",
       "}\r\n",
       "\r\n",
       "    </script>\r\n",
       "</div>"
      ]
     },
     "metadata": {},
     "output_type": "display_data"
    },
    {
     "data": {
      "text/html": [
       "<div><div></div><div></div><div><strong>Installed Packages</strong><ul><li><span>Plotly.NET, 4.0.0</span></li><li><span>Plotly.NET.Interactive, 4.1.0</span></li></ul></div></div>"
      ]
     },
     "metadata": {},
     "output_type": "display_data"
    },
    {
     "data": {
      "text/plain": [
       "Loading extensions from `/Users/daniel/.nuget/packages/plotly.net.interactive/4.1.0/interactive-extensions/dotnet/Plotly.NET.Interactive.dll`"
      ]
     },
     "metadata": {},
     "output_type": "display_data"
    }
   ],
   "source": [
    "#load \"../Data/Data.fsx\"\n",
    "#r \"nuget: Plotly.NET\"\n",
    "#r \"nuget: Plotly.NET.Interactive\"\n",
    "\n",
    "open Data\n",
    "open Plotly.NET"
   ]
  },
  {
   "cell_type": "code",
   "execution_count": 2,
   "id": "e609978f-0e5f-42d6-99ea-12d7e8b64fdb",
   "metadata": {
    "tags": []
   },
   "outputs": [],
   "source": [
    "let allData = loadData()\n",
    "\n",
    "let training, validation = allData |> splitData 0.7"
   ]
  },
  {
   "cell_type": "code",
   "execution_count": 3,
   "id": "abd4a422-0cea-465e-aec0-626338931c3d",
   "metadata": {},
   "outputs": [],
   "source": [
    "let createModelChart (model: Model) =\n",
    "    training\n",
    "    |> Array.map (fun obs -> (float obs.Instant, model obs))\n",
    "    |> Chart.Line\n",
    "\n"
   ]
  },
  {
   "cell_type": "code",
   "execution_count": 9,
   "id": "67348fc3-441f-4366-8085-f80f29c3154c",
   "metadata": {
    "tags": []
   },
   "outputs": [],
   "source": [
    "let cost (obs: Obs seq) (model: Model) =\n",
    "    obs |> Seq.sumBy (fun obs -> (model obs - float obs.Cnt) ** 2.) |> sqrt\n",
    "    \n",
    "let trainingCost = cost training\n",
    "\n",
    "let validationCost = cost validation\n",
    "\n",
    "let overallCost = cost allData.Rows"
   ]
  },
  {
   "cell_type": "code",
   "execution_count": 10,
   "id": "adaf1de2-846d-4c8c-8b38-0584c2701fa2",
   "metadata": {
    "tags": []
   },
   "outputs": [],
   "source": [
    "let buildModel (theta0, theta1) (obs: Obs) = theta0 + theta1 * float obs.Instant"
   ]
  },
  {
   "cell_type": "code",
   "execution_count": 11,
   "id": "a964b376-fbc2-4508-af1f-2407bf101071",
   "metadata": {
    "tags": []
   },
   "outputs": [],
   "source": [
    "let evaluateModel model =\n",
    "    validation |> Array.averageBy (fun obs -> abs (model obs - float obs.Cnt))\n",
    "    "
   ]
  },
  {
   "cell_type": "code",
   "execution_count": 12,
   "id": "dc0327a9-a781-48e9-848f-af1f4ecd9b4b",
   "metadata": {
    "tags": []
   },
   "outputs": [],
   "source": [
    "let updateThetas (alpha: float) (b, a) (obs: Obs) =\n",
    "    let x = float obs.Instant\n",
    "    let y = float obs.Cnt\n",
    "    let b' = b - 2. * alpha * (b + a * x - y)\n",
    "    let a' = a - 2. * alpha * x * (b + a * x - y)\n",
    "    (b', a')\n",
    "    \n",
    "let batchUpdateThetas rate (theta0, theta1) (data: Obs seq) =\n",
    "    let thetas = data |> Seq.map (updateThetas rate (theta0, theta1))\n",
    "\n",
    "    let theta0' = thetas |> Seq.averageBy fst\n",
    "    let theta1' = thetas |> Seq.averageBy snd\n",
    "    (theta0', theta1')\n",
    "    \n",
    "let stochasticEstimation rate (theta0, theta1) =\n",
    "    training |> Seq.fold (updateThetas rate) (theta0, theta1)\n",
    "    \n",
    "let batchEstimation rate iters (data : Obs seq)=\n",
    "    let rec search (theta0, theta1) i =\n",
    "        if i = 0 then (theta0, theta1)\n",
    "        else\n",
    "            search (batchUpdateThetas rate (theta0, theta1) data) (i-1)\n",
    "    \n",
    "    search (0.,0.) iters\n",
    "    \n"
   ]
  },
  {
   "cell_type": "code",
   "execution_count": 13,
   "id": "d534a635-7c5f-49a4-bbcf-6cf6fea2aa8f",
   "metadata": {
    "tags": []
   },
   "outputs": [],
   "source": [
    "let rate =\n",
    "    [ for r in 1..30 -> (pown 0.1 r), stochasticEstimation (pown 0.1 r) (0., 0.) |> buildModel |> trainingCost ]\n",
    "    |> Seq.filter (fun (rate, error) -> error > 0)\n",
    "    |> Seq.minBy snd\n",
    "    |> fst"
   ]
  },
  {
   "cell_type": "code",
   "execution_count": 17,
   "id": "403db101-aa1e-47ef-b380-c111287e9bcf",
   "metadata": {
    "tags": []
   },
   "outputs": [],
   "source": [
    "let baselineModel =\n",
    "    fun (_: Obs) -> allData.Rows |> Seq.averageBy (fun x -> float x.Cnt)"
   ]
  },
  {
   "cell_type": "code",
   "execution_count": 18,
   "id": "4d62f968-c50c-4ef1-8602-87cede326f83",
   "metadata": {
    "tags": []
   },
   "outputs": [],
   "source": [
    "let thetas1 = stochasticEstimation rate (0., 0.)\n",
    "let model1 = thetas1 |> buildModel"
   ]
  },
  {
   "cell_type": "code",
   "execution_count": 19,
   "id": "6a8bb7e3-6718-4893-ad86-10e7dbbef1bc",
   "metadata": {
    "tags": []
   },
   "outputs": [],
   "source": [
    "let thetas2 = batchEstimation rate 2000 training\n",
    "let model2 = thetas2 |> buildModel"
   ]
  },
  {
   "cell_type": "code",
   "execution_count": 20,
   "id": "89ae6eca-16e1-40a8-adbd-7338e43e3b34",
   "metadata": {
    "tags": []
   },
   "outputs": [
    {
     "name": "stdout",
     "output_type": "stream",
     "text": [
      "Naive model average error: 1619.742275\n",
      "Model 1 thetas: (0.08445985761, 9.643593597)\n",
      "Model 1 average error: 1539.519699\n",
      "Model 2 thetas: (0.2753406868, 10.57574839)\n",
      "Model 2 average error: 1426.257911\n"
     ]
    }
   ],
   "source": [
    "evaluateModel baselineModel |> printfn \"Naive model average error: %f\"\n",
    "thetas1 |> printfn \"Model 1 thetas: %A\"\n",
    "evaluateModel model1 |> printfn \"Model 1 average error: %f\"\n",
    "thetas2 |> printfn \"Model 2 thetas: %A\"\n",
    "evaluateModel model2 |> printfn \"Model 2 average error: %f\""
   ]
  },
  {
   "cell_type": "code",
   "execution_count": 22,
   "id": "9dc5958d-44d3-4bdb-bed6-91d9a6b26fb8",
   "metadata": {
    "tags": []
   },
   "outputs": [
    {
     "name": "stderr",
     "output_type": "stream",
     "text": [
      "\n",
      "input.fsx (10,10)-(10,23) typecheck error Nie zdefiniowano wartości lub konstruktora „baselineChart”. Możliwe, że chcesz wykonać jedną z następujących czynności:\n",
      "   baselineModel\n",
      "\n"
     ]
    },
    {
     "ename": "Error",
     "evalue": "compilation error",
     "output_type": "error",
     "traceback": []
    }
   ],
   "source": [
    "let chart =\n",
    "    allData.Rows\n",
    "    |> Seq.map (fun obs -> (float obs.Instant, float obs.Cnt))\n",
    "    |> Chart.Point\n",
    "    \n",
    "    \n",
    "\n",
    "let model1Chart = createModelChart model1\n",
    "\n",
    "let model2Chart = createModelChart model2\n",
    "\n",
    "[ chart; baselineChart; model1Chart; model2Chart ]\n",
    "|> Chart.combine\n"
   ]
  },
  {
   "cell_type": "code",
   "execution_count": null,
   "id": "6fefbba3-7167-43aa-8a64-fef94bf1edcf",
   "metadata": {},
   "outputs": [],
   "source": []
  }
 ],
 "metadata": {
  "kernelspec": {
   "display_name": ".NET (F#)",
   "language": "F#",
   "name": ".net-fsharp"
  },
  "language_info": {
   "file_extension": ".fs",
   "mimetype": "text/x-fsharp",
   "name": "F#",
   "pygments_lexer": "fsharp",
   "version": "7.0"
  }
 },
 "nbformat": 4,
 "nbformat_minor": 5
}
