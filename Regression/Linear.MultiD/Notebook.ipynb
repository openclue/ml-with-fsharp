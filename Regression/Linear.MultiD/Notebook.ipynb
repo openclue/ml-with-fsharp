{
 "cells": [
  {
   "cell_type": "markdown",
   "id": "ddc4dc23-f3d3-480a-89b6-54fd95e646b9",
   "metadata": {
    "tags": []
   },
   "source": [
    "### Packages ###"
   ]
  },
  {
   "cell_type": "code",
   "execution_count": 1,
   "id": "c24b76bd-249b-41c2-9456-d701887f2f33",
   "metadata": {
    "tags": []
   },
   "outputs": [
    {
     "data": {
      "text/html": [
       "\r\n",
       "<div>\r\n",
       "    <div id='dotnet-interactive-this-cell-2947.Microsoft.DotNet.Interactive.Http.HttpPort' style='display: none'>\r\n",
       "        The below script needs to be able to find the current output cell; this is an easy method to get it.\r\n",
       "    </div>\r\n",
       "    <script type='text/javascript'>\r\n",
       "async function probeAddresses(probingAddresses) {\r\n",
       "    function timeout(ms, promise) {\r\n",
       "        return new Promise(function (resolve, reject) {\r\n",
       "            setTimeout(function () {\r\n",
       "                reject(new Error('timeout'))\r\n",
       "            }, ms)\r\n",
       "            promise.then(resolve, reject)\r\n",
       "        })\r\n",
       "    }\r\n",
       "\r\n",
       "    if (Array.isArray(probingAddresses)) {\r\n",
       "        for (let i = 0; i < probingAddresses.length; i++) {\r\n",
       "\r\n",
       "            let rootUrl = probingAddresses[i];\r\n",
       "\r\n",
       "            if (!rootUrl.endsWith('/')) {\r\n",
       "                rootUrl = `${rootUrl}/`;\r\n",
       "            }\r\n",
       "\r\n",
       "            try {\r\n",
       "                let response = await timeout(1000, fetch(`${rootUrl}discovery`, {\r\n",
       "                    method: 'POST',\r\n",
       "                    cache: 'no-cache',\r\n",
       "                    mode: 'cors',\r\n",
       "                    timeout: 1000,\r\n",
       "                    headers: {\r\n",
       "                        'Content-Type': 'text/plain'\r\n",
       "                    },\r\n",
       "                    body: probingAddresses[i]\r\n",
       "                }));\r\n",
       "\r\n",
       "                if (response.status == 200) {\r\n",
       "                    return rootUrl;\r\n",
       "                }\r\n",
       "            }\r\n",
       "            catch (e) { }\r\n",
       "        }\r\n",
       "    }\r\n",
       "}\r\n",
       "\r\n",
       "function loadDotnetInteractiveApi() {\r\n",
       "    probeAddresses([\"http://169.254.238.177:2049/\", \"http://10.197.1.44:2049/\", \"http://127.0.0.1:2049/\"])\r\n",
       "        .then((root) => {\r\n",
       "        // use probing to find host url and api resources\r\n",
       "        // load interactive helpers and language services\r\n",
       "        let dotnetInteractiveRequire = require.config({\r\n",
       "        context: '2947.Microsoft.DotNet.Interactive.Http.HttpPort',\r\n",
       "                paths:\r\n",
       "            {\r\n",
       "                'dotnet-interactive': `${root}resources`\r\n",
       "                }\r\n",
       "        }) || require;\r\n",
       "\r\n",
       "            window.dotnetInteractiveRequire = dotnetInteractiveRequire;\r\n",
       "\r\n",
       "            window.configureRequireFromExtension = function(extensionName, extensionCacheBuster) {\r\n",
       "                let paths = {};\r\n",
       "                paths[extensionName] = `${root}extensions/${extensionName}/resources/`;\r\n",
       "                \r\n",
       "                let internalRequire = require.config({\r\n",
       "                    context: extensionCacheBuster,\r\n",
       "                    paths: paths,\r\n",
       "                    urlArgs: `cacheBuster=${extensionCacheBuster}`\r\n",
       "                    }) || require;\r\n",
       "\r\n",
       "                return internalRequire\r\n",
       "            };\r\n",
       "        \r\n",
       "            dotnetInteractiveRequire([\r\n",
       "                    'dotnet-interactive/dotnet-interactive'\r\n",
       "                ],\r\n",
       "                function (dotnet) {\r\n",
       "                    dotnet.init(window);\r\n",
       "                },\r\n",
       "                function (error) {\r\n",
       "                    console.log(error);\r\n",
       "                }\r\n",
       "            );\r\n",
       "        })\r\n",
       "        .catch(error => {console.log(error);});\r\n",
       "    }\r\n",
       "\r\n",
       "// ensure `require` is available globally\r\n",
       "if ((typeof(require) !==  typeof(Function)) || (typeof(require.config) !== typeof(Function))) {\r\n",
       "    let require_script = document.createElement('script');\r\n",
       "    require_script.setAttribute('src', 'https://cdnjs.cloudflare.com/ajax/libs/require.js/2.3.6/require.min.js');\r\n",
       "    require_script.setAttribute('type', 'text/javascript');\r\n",
       "    \r\n",
       "    \r\n",
       "    require_script.onload = function() {\r\n",
       "        loadDotnetInteractiveApi();\r\n",
       "    };\r\n",
       "\r\n",
       "    document.getElementsByTagName('head')[0].appendChild(require_script);\r\n",
       "}\r\n",
       "else {\r\n",
       "    loadDotnetInteractiveApi();\r\n",
       "}\r\n",
       "\r\n",
       "    </script>\r\n",
       "</div>"
      ]
     },
     "metadata": {},
     "output_type": "display_data"
    },
    {
     "data": {
      "text/html": [
       "<div><div></div><div></div><div><strong>Installed Packages</strong><ul><li><span>FSharp.Stats, 0.4.11</span></li><li><span>Plotly.NET, 4.0.0</span></li></ul></div></div>"
      ]
     },
     "metadata": {},
     "output_type": "display_data"
    }
   ],
   "source": [
    "#load \"../Data/Data.fsx\"\n",
    "\n",
    "#r \"nuget: FSharp.Stats\"\n",
    "#r \"nuget: Plotly.NET\"\n",
    "\n",
    "open Data\n",
    "open FSharp.Stats\n",
    "open FSharp.Stats.Algebra.LinearAlgebra\n"
   ]
  },
  {
   "cell_type": "markdown",
   "id": "57375838-5034-4716-a7c6-dd0b859db135",
   "metadata": {
    "tags": []
   },
   "source": [
    "### Types ###"
   ]
  },
  {
   "cell_type": "code",
   "execution_count": 2,
   "id": "5c13fec6-a091-4c71-81c9-b4b8ad7b2f69",
   "metadata": {
    "tags": []
   },
   "outputs": [],
   "source": [
    "type Vec = Vector<float>\n",
    "\n",
    "type Mat = Matrix<float>"
   ]
  },
  {
   "cell_type": "markdown",
   "id": "70fb48b2-209e-414d-a155-0c2ed7608619",
   "metadata": {
    "tags": []
   },
   "source": [
    "### Helper functions ###"
   ]
  },
  {
   "cell_type": "code",
   "execution_count": 3,
   "id": "b8fce00e-8dbe-49e3-91bc-d39e76e43986",
   "metadata": {},
   "outputs": [],
   "source": [
    "let estimateTheta (X: Mat) (Y: Vec) =\n",
    "    let XT = X |> Matrix.transpose\n",
    "\n",
    "    ((XT * X) |> Inverse) * XT * Y\n",
    "\n",
    "let train (f: Featurizer) (data: Obs seq) =\n",
    "    let Yt, Xt =\n",
    "        data |> Seq.toList |> List.map (fun obs -> float obs.Cnt, f obs) |> List.unzip\n",
    "\n",
    "    let thetas = estimateTheta (matrix Xt) (vector Yt)\n",
    "\n",
    "    thetas, (fun obs -> Vector.dot (f obs |> vector) thetas)\n",
    "\n"
   ]
  },
  {
   "cell_type": "markdown",
   "id": "4985a8db-afd0-4df2-a1b1-545ac5237a40",
   "metadata": {
    "tags": []
   },
   "source": [
    "### Test featurizers ###"
   ]
  },
  {
   "cell_type": "code",
   "execution_count": 4,
   "id": "ac31fea4-5cdd-4999-9b56-b7d8dbcf594b",
   "metadata": {
    "tags": []
   },
   "outputs": [],
   "source": [
    "\n",
    "let f1 (obs: Obs) = [ 1.0; obs.Instant |> float ]\n",
    "\n",
    "let f2 (obs: Obs) = [ 1.0; obs.Instant; float obs.Temp ]\n",
    "\n",
    "let f3 (obs: Obs) =\n",
    "    [ 1.0; obs.Instant; float obs.Temp; float obs.Windspeed ]\n",
    "\n",
    "\n",
    "let f4 (obs: Obs) =\n",
    "    [ 1.0; obs.Instant; float obs.Temp; float obs.Windspeed; float obs.Hum ]"
   ]
  },
  {
   "cell_type": "markdown",
   "id": "55e0daef-20ed-435d-a2ad-34838d422098",
   "metadata": {
    "tags": []
   },
   "source": [
    "### Let's load some data ###"
   ]
  },
  {
   "cell_type": "code",
   "execution_count": 5,
   "id": "f5fb6a6b-5b0e-446a-8d42-094a80d8d60a",
   "metadata": {
    "tags": []
   },
   "outputs": [],
   "source": [
    "let allData = loadData()\n",
    "\n",
    "let training, validation = allData |> splitData 0.7"
   ]
  },
  {
   "cell_type": "markdown",
   "id": "b7a67bc6-97a6-4e16-aa6f-9b7116e6b058",
   "metadata": {
    "tags": []
   },
   "source": [
    "### Let's train some models ###"
   ]
  },
  {
   "cell_type": "code",
   "execution_count": 6,
   "id": "1d9364ce-86f2-4359-bd71-91ab9ec62472",
   "metadata": {
    "tags": []
   },
   "outputs": [],
   "source": [
    "let thetas1, model1 = train f1 training\n",
    "let thetas2, model2 = train f2 training\n",
    "let thetas3, model3 = train f3 training\n",
    "let thetas4, model4 = train f4 training"
   ]
  },
  {
   "cell_type": "markdown",
   "id": "b321903d-478d-4b57-b95b-c50c729644ec",
   "metadata": {
    "tags": []
   },
   "source": [
    "### Let's evaluate them ###"
   ]
  },
  {
   "cell_type": "code",
   "execution_count": 7,
   "id": "f56419be-4b98-4af2-b652-784989175276",
   "metadata": {
    "tags": []
   },
   "outputs": [
    {
     "name": "stdout",
     "output_type": "stream",
     "text": [
      "Model1: 1201.846758 \n",
      "\n",
      "Model2: 809.3199494 \n",
      "\n",
      "Model3: 792.5169779 \n",
      "\n",
      "Model4: 743.3872076 \n",
      "\n"
     ]
    }
   ],
   "source": [
    "evaluate model1 validation |> printfn \"Model1: %A \\n\"\n",
    "evaluate model2 validation |> printfn \"Model2: %A \\n\"\n",
    "evaluate model3 validation |> printfn \"Model3: %A \\n\"\n",
    "evaluate model4 validation |> printfn \"Model4: %A \\n\"\n"
   ]
  },
  {
   "cell_type": "code",
   "execution_count": null,
   "id": "37440a6c-7783-4b24-b172-499febc8c12d",
   "metadata": {},
   "outputs": [],
   "source": []
  }
 ],
 "metadata": {
  "kernelspec": {
   "display_name": ".NET (F#)",
   "language": "F#",
   "name": ".net-fsharp"
  },
  "language_info": {
   "file_extension": ".fs",
   "mimetype": "text/x-fsharp",
   "name": "F#",
   "pygments_lexer": "fsharp",
   "version": "7.0"
  }
 },
 "nbformat": 4,
 "nbformat_minor": 5
}
